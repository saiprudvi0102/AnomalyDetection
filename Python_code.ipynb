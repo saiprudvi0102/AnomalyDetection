{
  "nbformat": 4,
  "nbformat_minor": 0,
  "metadata": {
    "colab": {
      "provenance": []
    },
    "kernelspec": {
      "name": "python3",
      "display_name": "Python 3"
    },
    "language_info": {
      "name": "python"
    }
  },
  "cells": [
    {
      "cell_type": "code",
      "execution_count": null,
      "metadata": {
        "id": "hexPUk0uTJNb"
      },
      "outputs": [],
      "source": [
        "from pynq import Overlay\n",
        "import pandas as pd\n",
        "import numpy as np\n",
        "from time import sleep\n",
        "\n",
        "# Load the base overlay\n",
        "overlay = Overlay(\"base.bit\")\n",
        "\n",
        "# Accessing the onboard LEDs GPIO\n",
        "leds = overlay.leds_gpio\n",
        "\n",
        "# Function to blink an LED\n",
        "def blink_led(led_index, times=5, interval=1):\n",
        "    for _ in range(times):\n",
        "        leds[led_index].toggle()\n",
        "        sleep(interval)\n",
        "        leds[led_index].toggle()\n",
        "        sleep(interval)\n",
        "    print(f\"LED {led_index} blinked.\")\n",
        "\n",
        "# Function to randomly check for attacks within the dataset\n",
        "def random_check_for_attacks(df, num_checks=10):\n",
        "    for _ in range(num_checks):\n",
        "        # Randomly select an entry from the dataset\n",
        "        random_entry = df.sample()\n",
        "        print(f\"Checking entry: {random_entry}\")\n",
        "\n",
        "        # Check if the randomly selected entry is labeled as 'Attack'\n",
        "        if 'Attack' in random_entry['Label'].values[0]:\n",
        "            print(\"Attack detected!\")\n",
        "            blink_led(0)  # Blink the first LED (LED 0)\n",
        "            return  # Stop checking after detecting an attack\n",
        "        else:\n",
        "            print(\"No attack detected in this entry.\")\n",
        "\n",
        "    # If no attack is found after all checks\n",
        "    blink_led(1, times=2, interval=1)  # Blink the second LED (LED 1) twice\n",
        "\n",
        "# Load and analyze the dataset\n",
        "if __name__ == \"__main__\":\n",
        "    # Load dataset\n",
        "    df = pd.read_csv('/home/xilinx/jupyter_notebooks/synthetic_network_traffics.csv')\n",
        "    random_check_for_attacks(df)"
      ]
    }
  ]
}